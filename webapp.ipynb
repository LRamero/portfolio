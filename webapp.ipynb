{
 "cells": [
  {
   "cell_type": "code",
   "execution_count": 15,
   "metadata": {},
   "outputs": [
    {
     "name": "stdout",
     "output_type": "stream",
     "text": [
      " * Serving Flask app \"__main__\" (lazy loading)\n",
      " * Environment: production\n",
      "\u001b[31m   WARNING: This is a development server. Do not use it in a production deployment.\u001b[0m\n",
      "\u001b[2m   Use a production WSGI server instead.\u001b[0m\n",
      " * Debug mode: off\n"
     ]
    },
    {
     "name": "stderr",
     "output_type": "stream",
     "text": [
      " * Running on http://127.0.0.1:5000/ (Press CTRL+C to quit)\n",
      "127.0.0.1 - - [16/Aug/2024 16:16:44] \"GET /projects/pokemon.html HTTP/1.1\" 200 -\n",
      "127.0.0.1 - - [16/Aug/2024 16:16:44] \"GET /projects/assets/css-pokemon-gameboy.css HTTP/1.1\" 200 -\n",
      "127.0.0.1 - - [16/Aug/2024 16:16:44] \"GET /projects/pokemon.js HTTP/1.1\" 200 -\n",
      "127.0.0.1 - - [16/Aug/2024 16:16:44] \"GET /projects/assets/images/fondo_pk.jpg HTTP/1.1\" 200 -\n",
      "127.0.0.1 - - [16/Aug/2024 16:16:44] \"GET /projects/assets/images/pk.ico HTTP/1.1\" 200 -\n",
      "127.0.0.1 - - [16/Aug/2024 16:16:45] \"POST /pokemon_combat HTTP/1.1\" 200 -\n",
      "127.0.0.1 - - [16/Aug/2024 16:16:45] \"GET /favicon.ico HTTP/1.1\" 404 -\n"
     ]
    }
   ],
   "source": [
    "from flask import Flask, render_template, send_from_directory, request, Response, stream_with_context\n",
    "import subprocess\n",
    "\n",
    "app = Flask(__name__, template_folder='C:/Users/leramero/Desktop/Portfolio', static_folder='C:/Users/leramero/Desktop/Portfolio/assets')\n",
    "\n",
    "class PokemonCombat:\n",
    "    def __init__(self):\n",
    "        self.proceso = None\n",
    "\n",
    "    def iniciar_combate(self):\n",
    "        # Iniciar la ejecución del script\n",
    "        script = \"projects/codes/pokemon.py\"\n",
    "        self.proceso = subprocess.Popen([\"python\", \"-u\", script], stdout=subprocess.PIPE, universal_newlines=True)\n",
    "        return Response(\"Iniciado\", mimetype=\"text/event-stream\", headers={\n",
    "            \"Cache-Control\": \"no-cache\",\n",
    "            \"Content-Type\": \"text/event-stream\"\n",
    "        })\n",
    "\n",
    "    def combat_stream(self):\n",
    "        # Leer la salida del script y enviarla como eventos\n",
    "        def generar_eventos():\n",
    "            while True:\n",
    "                salida = self.proceso.stdout.readline()\n",
    "                if salida:\n",
    "                    yield \"data: \" + salida + \"\\n\\n\"\n",
    "                else:\n",
    "                    self.cerrar_proceso()\n",
    "                    break\n",
    "        return Response(generar_eventos(), mimetype=\"text/event-stream\", headers={\n",
    "            \"Cache-Control\": \"no-cache\",\n",
    "            \"Content-Type\": \"text/event-stream\"\n",
    "        })\n",
    "\n",
    "    def cerrar_proceso(self):\n",
    "        # Cerrar el proceso\n",
    "        if self.proceso:\n",
    "            self.proceso.kill()\n",
    "            self.proceso = None\n",
    "\n",
    "pokemon_combat = PokemonCombat()\n",
    "\n",
    "@app.route(\"/\")\n",
    "def index():\n",
    "    return render_template(\"index.html\")\n",
    "\n",
    "@app.route(\"/assets/<path:path>\")\n",
    "def send_static(path):\n",
    "    return send_from_directory(\"assets\", path)\n",
    "\n",
    "@app.route(\"/projects/assets/pk/<path:path>\")\n",
    "def send_static_pk(path):\n",
    "    return send_from_directory(\"projects/assets/pk\", path)\n",
    "\n",
    "@app.route(\"/projects/assets/<path:path>\")\n",
    "def send_static_pr(path):\n",
    "    return send_from_directory(\"projects/assets\", path)\n",
    "\n",
    "@app.route(\"/assets/images/<path:path>\")\n",
    "def send_image(path):\n",
    "    return send_from_directory(\"assets/images\", path)\n",
    "\n",
    "@app.route(\"/projects/assets/images/<path:path>\")\n",
    "def send_image_pk(path):\n",
    "    return send_from_directory(\"projects/assets/images\", path)\n",
    "\n",
    "@app.route(\"/projects/<path:path>\")\n",
    "def pokemon(path):\n",
    "    return render_template(\"projects/pokemon.html\")\n",
    "\n",
    "@app.route(\"/pokemon_combat\", methods=[\"POST\"])\n",
    "def pokemon_combat_inicio():\n",
    "    return pokemon_combat.iniciar_combate()\n",
    "\n",
    "@app.route(\"/pokemon_combat_stream\")\n",
    "def pokemon_combat_stream():\n",
    "    return pokemon_combat.combat_stream()\n",
    "\n",
    "if __name__ == \"__main__\":\n",
    "    app.run()"
   ]
  },
  {
   "cell_type": "markdown",
   "metadata": {},
   "source": []
  },
  {
   "cell_type": "code",
   "execution_count": null,
   "metadata": {},
   "outputs": [],
   "source": []
  }
 ],
 "metadata": {
  "kernelspec": {
   "display_name": "Python 3",
   "language": "python",
   "name": "python3"
  },
  "language_info": {
   "codemirror_mode": {
    "name": "ipython",
    "version": 3
   },
   "file_extension": ".py",
   "mimetype": "text/x-python",
   "name": "python",
   "nbconvert_exporter": "python",
   "pygments_lexer": "ipython3",
   "version": "3.8.16"
  }
 },
 "nbformat": 4,
 "nbformat_minor": 2
}
