{
 "cells": [
  {
   "cell_type": "code",
   "execution_count": 14,
   "metadata": {},
   "outputs": [
    {
     "name": "stdout",
     "output_type": "stream",
     "text": [
      "La temperatura actual es de 21.37°C\n",
      "La sensación térmica es de 21.18°C\n",
      "La presión es de 1013 hPa\n",
      "La humedad es de 62%\n"
     ]
    }
   ],
   "source": [
    "import requests\n",
    "\n",
    "def obtener_clima(lat, lon, api_key):\n",
    "    url = f\"https://api.openweathermap.org/data/3.0/onecall?lat={lat}&lon={lon}&appid={api_key}&units=metric\"\n",
    "    respuesta = requests.get(url)\n",
    "    if respuesta.status_code == 200:\n",
    "        datos = respuesta.json()\n",
    "        return datos\n",
    "    else:\n",
    "        print(respuesta.status_code)\n",
    "        return None\n",
    "    \n",
    "def obtener_coord(direccion, api_key):\n",
    "    url = f\"https://api.positionstack.com/v1/forward?access_key={api_key}&query={direccion}\"\n",
    "    response = requests.get(url)\n",
    "\n",
    "    if response.status_code == 200:\n",
    "        data = response.json()\n",
    "        lat = data[\"data\"][0][\"latitude\"]\n",
    "        lon = data[\"data\"][0][\"longitude\"]\n",
    "        return lat, lon\n",
    "    else:\n",
    "        print(\"Error en la solicitud\")\n",
    "\n",
    "api_key_pos = \"2eae4d6ab559560aff57f36d082f1557\"\n",
    "api_key_weather = \"5533dcf8f8ce2a5e8f3b404812e25ca7\"\n",
    "\n",
    "ciudad = \"San Luis, Argentina\"\n",
    "lat, lon = obtener_coord(ciudad, api_key_pos)\n",
    "datos_clima = obtener_clima(lat, lon, api_key_weather)\n",
    "\n",
    "if datos_clima:\n",
    "    print(f\"La temperatura actual es de {datos_clima['current']['temp']}°C\")\n",
    "    print(f\"La sensación térmica es de {datos_clima['current']['feels_like']}°C\")\n",
    "    print(f\"La presión es de {datos_clima['current']['pressure']} hPa\")\n",
    "    print(f\"La humedad es de {datos_clima['current']['humidity']}%\")\n",
    "else:\n",
    "    print(\"No se pudo obtener la información del clima\")"
   ]
  },
  {
   "cell_type": "code",
   "execution_count": null,
   "metadata": {},
   "outputs": [],
   "source": []
  }
 ],
 "metadata": {
  "kernelspec": {
   "display_name": "Python 3",
   "language": "python",
   "name": "python3"
  },
  "language_info": {
   "codemirror_mode": {
    "name": "ipython",
    "version": 3
   },
   "file_extension": ".py",
   "mimetype": "text/x-python",
   "name": "python",
   "nbconvert_exporter": "python",
   "pygments_lexer": "ipython3",
   "version": "3.10.11"
  }
 },
 "nbformat": 4,
 "nbformat_minor": 2
}
